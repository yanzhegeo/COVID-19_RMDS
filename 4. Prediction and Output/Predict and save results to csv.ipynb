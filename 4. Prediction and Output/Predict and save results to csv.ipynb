{
 "cells": [
  {
   "cell_type": "code",
   "execution_count": null,
   "metadata": {},
   "outputs": [],
   "source": [
    "#!/usr/bin/env python3\n",
    "# -*- coding: utf-8 -*-\n",
    "\"\"\"\n",
    "Created on Thr Apr 9 16:31:22 2020\n",
    "@author: Yanzhe\n",
    "1) Prepare the data for random forest model\n",
    "2) Predict with an existing model\n",
    "3) Output\n",
    "\n",
    "\n",
    "\"\"\"\n",
    "\n"
   ]
  },
  {
   "cell_type": "code",
   "execution_count": null,
   "metadata": {},
   "outputs": [],
   "source": [
    "# Install required packages\n",
    "import pandas as pd  \n",
    "import numpy as np  \n",
    "import pickle"
   ]
  },
  {
   "cell_type": "code",
   "execution_count": null,
   "metadata": {},
   "outputs": [],
   "source": [
    "# Prepare the data for prediction\n",
    "\n",
    "# Output with all parameters\n",
    "input_file_1=\"E:/AWS/Regression/data/State/state_rf_1.csv\"\n",
    "dataset_1 = pd.read_csv(input_file_1)\n",
    "features_1 = dataset_1.iloc[:,9:16]\n",
    "# Check data volume\n",
    "print('The shape of our features is:', features_1.shape)\n",
    "\n",
    "# Labels are the values we want to predict\n",
    "labels_1 = np.array(features_1['derive'])\n",
    "# Remove the labels from the features\n",
    "# axis 1 refers to the columns\n",
    "features_1= features_1.drop('derive', axis = 1)\n",
    "# Convert to numpy array\n",
    "features_1 = np.array(features_1)\n",
    "    \n"
   ]
  },
  {
   "cell_type": "code",
   "execution_count": null,
   "metadata": {},
   "outputs": [],
   "source": [
    "# Import a model\n",
    "pkl_filename = input(\"name of the saved model: \")\n",
    "with open(pkl_filename, 'rb') as file:\n",
    "    pickle_model = pickle.load(file)\n"
   ]
  },
  {
   "cell_type": "code",
   "execution_count": null,
   "metadata": {},
   "outputs": [],
   "source": [
    "# Predict\n",
    "predictions_1 = pickle_model.predict(features_1)\n",
    "print(\"Predicted\")"
   ]
  },
  {
   "cell_type": "code",
   "execution_count": null,
   "metadata": {},
   "outputs": [],
   "source": [
    "print(\"Start saving to txt\")\n",
    "# Save result to txt file\n",
    "np.savetxt('test_0.out', predictions_1, delimiter=',',header='derive_predict')\n"
   ]
  }
 ],
 "metadata": {
  "kernelspec": {
   "display_name": "Python [conda env:py3] *",
   "language": "python",
   "name": "conda-env-py3-py"
  },
  "language_info": {
   "codemirror_mode": {
    "name": "ipython",
    "version": 3
   },
   "file_extension": ".py",
   "mimetype": "text/x-python",
   "name": "python",
   "nbconvert_exporter": "python",
   "pygments_lexer": "ipython3",
   "version": "3.6.8"
  }
 },
 "nbformat": 4,
 "nbformat_minor": 4
}
