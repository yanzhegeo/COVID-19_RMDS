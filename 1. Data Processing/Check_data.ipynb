{
 "cells": [
  {
   "cell_type": "code",
   "execution_count": null,
   "metadata": {},
   "outputs": [],
   "source": [
    "# -*- coding: utf-8 -*-\n",
    "\"\"\"\n",
    "Created on Thr Apr 9 16:31:22 2020\n",
    "@author: Yanzhe\n",
    "Know what data is available from MongoDB\n",
    "\"\"\"\n",
    "\n",
    "import pymongo\n",
    "from pymongo import MongoClient\n",
    "import numpy as np\n",
    "import requests\n",
    "\n",
    "mongo_client = pymongo.MongoClient('clinet', 'port') # client auth\n",
    "mongo_auth = mongo_client['db'] # db=COVID19-DB\n",
    "mongo_auth.authenticate('user', 'pw') # user pw\n",
    "\n",
    "# print(mongo_client.server_info())"
   ]
  },
  {
   "cell_type": "code",
   "execution_count": null,
   "metadata": {},
   "outputs": [],
   "source": [
    "mongo_db = mongo_client['COVID19-DB']\n",
    "county_col=mongo_db['counties']\n",
    "cdc_col=mongo_db['CDC-TimeSeries']"
   ]
  },
  {
   "cell_type": "code",
   "execution_count": null,
   "metadata": {},
   "outputs": [],
   "source": [
    "x = county_col.find_one()\n",
    "y = cdc_col.find_one()\n",
    "print(x)\n",
    "print(y)"
   ]
  },
  {
   "cell_type": "code",
   "execution_count": null,
   "metadata": {},
   "outputs": [],
   "source": [
    "cdc_col.find( { \"Province/State\": { \"Georgia\" } } )"
   ]
  },
  {
   "cell_type": "code",
   "execution_count": null,
   "metadata": {},
   "outputs": [],
   "source": []
  }
 ],
 "metadata": {
  "kernelspec": {
   "display_name": "Python 3",
   "language": "python",
   "name": "python3"
  },
  "language_info": {
   "codemirror_mode": {
    "name": "ipython",
    "version": 3
   },
   "file_extension": ".py",
   "mimetype": "text/x-python",
   "name": "python",
   "nbconvert_exporter": "python",
   "pygments_lexer": "ipython3",
   "version": "3.6.8"
  }
 },
 "nbformat": 4,
 "nbformat_minor": 2
}
